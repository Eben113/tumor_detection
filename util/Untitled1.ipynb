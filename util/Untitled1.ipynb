{
 "cells": [
  {
   "cell_type": "code",
   "execution_count": 7,
   "id": "f513060d-7bf8-45d5-b8f1-cc45b983399a",
   "metadata": {},
   "outputs": [],
   "source": [
    "import numpy as np\n",
    "import scipy.linalg as lin"
   ]
  },
  {
   "cell_type": "code",
   "execution_count": 43,
   "id": "78df1bf3-b1bc-477b-8d4a-e0d3fe1bdae6",
   "metadata": {},
   "outputs": [
    {
     "data": {
      "text/plain": [
       "array([1., 1.])"
      ]
     },
     "execution_count": 43,
     "metadata": {},
     "output_type": "execute_result"
    }
   ],
   "source": [
    "a = np.diag(np.eye(2))\n",
    "a"
   ]
  },
  {
   "cell_type": "code",
   "execution_count": 38,
   "id": "0b1982f2-8ebc-4c27-a5cb-112f29b7fbdb",
   "metadata": {},
   "outputs": [
    {
     "data": {
      "text/plain": [
       "array([[1, 0, 0, 0, 0],\n",
       "       [0, 1, 0, 0, 0],\n",
       "       [0, 0, 1, 0, 0],\n",
       "       [0, 0, 0, 1, 0],\n",
       "       [0, 0, 0, 0, 2]])"
      ]
     },
     "execution_count": 38,
     "metadata": {},
     "output_type": "execute_result"
    }
   ],
   "source": [
    "lin.block_diag(*[1]*4, 2)"
   ]
  },
  {
   "cell_type": "code",
   "execution_count": 35,
   "id": "cdce20dd-ce3e-4e7a-bddf-1a5123b28120",
   "metadata": {},
   "outputs": [],
   "source": [
    "mainMatrix_diag = np.diag([4]*3) + np.diag([-1]*2, 1) + np.diag([-1]*2, -1)\n",
    "lhs = lin.block_diag(*[mainMatrix_diag]*3)"
   ]
  },
  {
   "cell_type": "code",
   "execution_count": 36,
   "id": "1d29b316-6773-4452-9891-59fbb68fe786",
   "metadata": {},
   "outputs": [
    {
     "data": {
      "text/plain": [
       "array([[ 4, -1,  0,  0,  0,  0,  0,  0,  0],\n",
       "       [-1,  4, -1,  0,  0,  0,  0,  0,  0],\n",
       "       [ 0, -1,  4,  0,  0,  0,  0,  0,  0],\n",
       "       [ 0,  0,  0,  4, -1,  0,  0,  0,  0],\n",
       "       [ 0,  0,  0, -1,  4, -1,  0,  0,  0],\n",
       "       [ 0,  0,  0,  0, -1,  4,  0,  0,  0],\n",
       "       [ 0,  0,  0,  0,  0,  0,  4, -1,  0],\n",
       "       [ 0,  0,  0,  0,  0,  0, -1,  4, -1],\n",
       "       [ 0,  0,  0,  0,  0,  0,  0, -1,  4]])"
      ]
     },
     "execution_count": 36,
     "metadata": {},
     "output_type": "execute_result"
    }
   ],
   "source": [
    "lhs"
   ]
  }
 ],
 "metadata": {
  "kernelspec": {
   "display_name": "Python 3 (ipykernel)",
   "language": "python",
   "name": "python3"
  },
  "language_info": {
   "codemirror_mode": {
    "name": "ipython",
    "version": 3
   },
   "file_extension": ".py",
   "mimetype": "text/x-python",
   "name": "python",
   "nbconvert_exporter": "python",
   "pygments_lexer": "ipython3",
   "version": "3.13.0"
  }
 },
 "nbformat": 4,
 "nbformat_minor": 5
}
