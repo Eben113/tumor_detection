{
 "cells": [
  {
   "cell_type": "code",
   "execution_count": 1,
   "id": "dd2ead18-e919-4018-8e2e-f3481af1d424",
   "metadata": {},
   "outputs": [],
   "source": [
    "import sys,gc"
   ]
  },
  {
   "cell_type": "code",
   "execution_count": 2,
   "id": "2d729ba1-8ec4-43e9-be04-83c3ca2ce840",
   "metadata": {},
   "outputs": [],
   "source": [
    "a = 8"
   ]
  },
  {
   "cell_type": "code",
   "execution_count": 18,
   "id": "d08113b6-edfc-4c91-9154-bd827a4c53e5",
   "metadata": {},
   "outputs": [
    {
     "data": {
      "text/plain": [
       "(4294967295, 4294967295)"
      ]
     },
     "execution_count": 18,
     "metadata": {},
     "output_type": "execute_result"
    }
   ],
   "source": [
    "sys.getrefcount(d[0]), sys.getrefcount(a)"
   ]
  },
  {
   "cell_type": "code",
   "execution_count": 4,
   "id": "c85ae1e1-d9c4-4a24-bb92-7ebf53627191",
   "metadata": {},
   "outputs": [],
   "source": [
    "d = [a]"
   ]
  },
  {
   "cell_type": "code",
   "execution_count": 7,
   "id": "9df9fb20-27a9-4a42-bdb3-b1c98da1bb78",
   "metadata": {},
   "outputs": [],
   "source": [
    "a = 9"
   ]
  },
  {
   "cell_type": "code",
   "execution_count": 12,
   "id": "d6e9b267-a7c7-4aaa-8732-46d55a1a969d",
   "metadata": {},
   "outputs": [],
   "source": [
    "d.append(a)"
   ]
  },
  {
   "cell_type": "code",
   "execution_count": 13,
   "id": "6788ca9a-2e3a-4ded-bbdb-4c4ac2d3a3c3",
   "metadata": {},
   "outputs": [
    {
     "data": {
      "text/plain": [
       "[8, 9]"
      ]
     },
     "execution_count": 13,
     "metadata": {},
     "output_type": "execute_result"
    }
   ],
   "source": [
    "d"
   ]
  },
  {
   "cell_type": "code",
   "execution_count": 24,
   "id": "0a0facf3-f5f0-461f-9dd8-8baf7593feb7",
   "metadata": {},
   "outputs": [
    {
     "data": {
      "text/plain": [
       "(1441, 6, 6)"
      ]
     },
     "execution_count": 24,
     "metadata": {},
     "output_type": "execute_result"
    }
   ],
   "source": [
    "gc.get_count()"
   ]
  }
 ],
 "metadata": {
  "kernelspec": {
   "display_name": "Python 3 (ipykernel)",
   "language": "python",
   "name": "python3"
  },
  "language_info": {
   "codemirror_mode": {
    "name": "ipython",
    "version": 3
   },
   "file_extension": ".py",
   "mimetype": "text/x-python",
   "name": "python",
   "nbconvert_exporter": "python",
   "pygments_lexer": "ipython3",
   "version": "3.13.0"
  }
 },
 "nbformat": 4,
 "nbformat_minor": 5
}
